{
 "cells": [
  {
   "cell_type": "markdown",
   "metadata": {
    "slideshow": {
     "slide_type": "-"
    }
   },
   "source": [
    "# iterador.py\n",
    "`while` por `for`"
   ]
  },
  {
   "cell_type": "code",
   "execution_count": 6,
   "metadata": {
    "scrolled": true
   },
   "outputs": [
    {
     "name": "stdout",
     "output_type": "stream",
     "text": [
      "Iteración 1\n",
      "Iteración 2\n",
      "Iteración 3\n",
      "Iteración 4\n",
      "Iteración 5\n",
      "Iteración 6\n",
      "Iteración 7\n",
      "Iteración 8\n",
      "Iteración 9\n",
      "Iteración 10\n",
      "Iteración 11\n",
      "Iteración 12\n",
      "Iteración 13\n",
      "Iteración 14\n",
      "Iteración 15\n",
      "Iteración 16\n",
      "Iteración 17\n",
      "Iteración 18\n",
      "Iteración 19\n",
      "Iteración 20\n",
      "Iteración 21\n",
      "Iteración 22\n",
      "Iteración 23\n",
      "Iteración 24\n",
      "Iteración 25\n",
      "Iteración 26\n",
      "Iteración 27\n",
      "Iteración 28\n",
      "Iteración 29\n",
      "Iteración 30\n",
      "Iteración 31\n",
      "Iteración 32\n",
      "Iteración 33\n",
      "Iteración 34\n",
      "Iteración 35\n",
      "Iteración 36\n",
      "Iteración 37\n",
      "Iteración 38\n",
      "Iteración 39\n",
      "Iteración 40\n",
      "Iteración 41\n",
      "Iteración 42\n",
      "Iteración 43\n",
      "Iteración 44\n",
      "Iteración 45\n",
      "Iteración 46\n",
      "Iteración 47\n",
      "Iteración 48\n",
      "Iteración 49\n",
      "Iteración 50\n"
     ]
    }
   ],
   "source": [
    "i = 0\n",
    "while i < 50:\n",
    "    print(\"Iteración {}\".format(i + 1))\n",
    "    i +=1"
   ]
  },
  {
   "cell_type": "code",
   "execution_count": 7,
   "metadata": {
    "scrolled": true
   },
   "outputs": [
    {
     "name": "stdout",
     "output_type": "stream",
     "text": [
      "Iteración 1\n",
      "Iteración 2\n",
      "Iteración 3\n",
      "Iteración 4\n",
      "Iteración 5\n",
      "Iteración 6\n",
      "Iteración 7\n",
      "Iteración 8\n",
      "Iteración 9\n",
      "Iteración 10\n",
      "Iteración 11\n",
      "Iteración 12\n",
      "Iteración 13\n",
      "Iteración 14\n",
      "Iteración 15\n",
      "Iteración 16\n",
      "Iteración 17\n",
      "Iteración 18\n",
      "Iteración 19\n",
      "Iteración 20\n",
      "Iteración 21\n",
      "Iteración 22\n",
      "Iteración 23\n",
      "Iteración 24\n",
      "Iteración 25\n",
      "Iteración 26\n",
      "Iteración 27\n",
      "Iteración 28\n",
      "Iteración 29\n",
      "Iteración 30\n",
      "Iteración 31\n",
      "Iteración 32\n",
      "Iteración 33\n",
      "Iteración 34\n",
      "Iteración 35\n",
      "Iteración 36\n",
      "Iteración 37\n",
      "Iteración 38\n",
      "Iteración 39\n",
      "Iteración 40\n",
      "Iteración 41\n",
      "Iteración 42\n",
      "Iteración 43\n",
      "Iteración 44\n",
      "Iteración 45\n",
      "Iteración 46\n",
      "Iteración 47\n",
      "Iteración 48\n",
      "Iteración 49\n",
      "Iteración 50\n"
     ]
    }
   ],
   "source": [
    "for i in range(50):\n",
    "    print(\"Iteración {}\".format(i + 1))"
   ]
  },
  {
   "cell_type": "markdown",
   "metadata": {},
   "source": [
    "# cuenta_regresiva.py\n",
    "`for` por `while`"
   ]
  },
  {
   "cell_type": "code",
   "execution_count": 8,
   "metadata": {},
   "outputs": [
    {
     "name": "stdout",
     "output_type": "stream",
     "text": [
      "Ingrese un número para comenzar la cuenta\n",
      "13\n",
      "Iteración 13\n",
      "Iteración 12\n",
      "Iteración 11\n",
      "Iteración 10\n",
      "Iteración 9\n",
      "Iteración 8\n",
      "Iteración 7\n",
      "Iteración 6\n",
      "Iteración 5\n",
      "Iteración 4\n",
      "Iteración 3\n",
      "Iteración 2\n",
      "Iteración 1\n"
     ]
    }
   ],
   "source": [
    "cuenta_regresiva = int(input(\"Ingrese un número para comenzar la cuenta\\n\"))\n",
    "\n",
    "for i in range(cuenta_regresiva):\n",
    "    tmp = cuenta_regresiva\n",
    "    print(\"Iteración {}\".format(tmp - i))"
   ]
  },
  {
   "cell_type": "code",
   "execution_count": 9,
   "metadata": {},
   "outputs": [
    {
     "name": "stdout",
     "output_type": "stream",
     "text": [
      "Ingrese un número para comenzar la cuenta\n",
      "13\n",
      "Iteración 13\n",
      "Iteración 12\n",
      "Iteración 11\n",
      "Iteración 10\n",
      "Iteración 9\n",
      "Iteración 8\n",
      "Iteración 7\n",
      "Iteración 6\n",
      "Iteración 5\n",
      "Iteración 4\n",
      "Iteración 3\n",
      "Iteración 2\n",
      "Iteración 1\n"
     ]
    }
   ],
   "source": [
    "cuenta_regresiva = int(input(\"Ingrese un número para comenzar la cuenta\\n\"))\n",
    "\n",
    "tmp = cuenta_regresiva\n",
    "while 0 < tmp:\n",
    "    print(\"Iteración {}\".format(tmp))\n",
    "    tmp -= 1"
   ]
  },
  {
   "cell_type": "markdown",
   "metadata": {},
   "source": [
    "# solo_pares.py\n",
    "condicional y modulo"
   ]
  },
  {
   "cell_type": "code",
   "execution_count": 10,
   "metadata": {},
   "outputs": [
    {
     "name": "stdout",
     "output_type": "stream",
     "text": [
      "Ingrese un número para comenzar la cuenta\n",
      "13\n",
      "0\n",
      "2\n",
      "4\n",
      "6\n",
      "8\n",
      "10\n",
      "12\n"
     ]
    }
   ],
   "source": [
    "n = int(input(\"Ingrese un número para comenzar la cuenta\\n\"))\n",
    "for i in range(n + 1):\n",
    "    if i % 2 == 0:\n",
    "        print(i)"
   ]
  },
  {
   "cell_type": "markdown",
   "metadata": {},
   "source": [
    "# solo_pares_refactor.py\n",
    "condicional y modulo sin cero"
   ]
  },
  {
   "cell_type": "code",
   "execution_count": 11,
   "metadata": {
    "scrolled": true
   },
   "outputs": [
    {
     "name": "stdout",
     "output_type": "stream",
     "text": [
      "Ingrese un número para comenzar la cuenta\n",
      "13\n",
      "2\n",
      "4\n",
      "6\n",
      "8\n",
      "10\n",
      "12\n"
     ]
    }
   ],
   "source": [
    "n = int(input(\"Ingrese un número para comenzar la cuenta\\n\"))\n",
    "\n",
    "# agregamos un valor inicial al rango quedando range(valor inicial, valor final)\n",
    "for i in range(1, n + 1):\n",
    "    if i % 2 == 0:\n",
    "        print(i)"
   ]
  },
  {
   "cell_type": "markdown",
   "metadata": {},
   "source": [
    "# suma_pares.py"
   ]
  },
  {
   "cell_type": "code",
   "execution_count": 12,
   "metadata": {},
   "outputs": [
    {
     "name": "stdout",
     "output_type": "stream",
     "text": [
      "Ingrese un número para comenzar la cuenta\n",
      "14\n",
      "56\n"
     ]
    }
   ],
   "source": [
    "n = int(input(\"Ingrese un número para comenzar la cuenta\\n\"))\n",
    "\n",
    "total = 0\n",
    "for i in range(n + 1):\n",
    "    if i % 2 == 0:\n",
    "        total += i\n",
    "\n",
    "print(total)"
   ]
  },
  {
   "cell_type": "markdown",
   "metadata": {},
   "source": [
    "# solo_impares.py\n",
    "condicional y modulo distinto a cero"
   ]
  },
  {
   "cell_type": "code",
   "execution_count": 13,
   "metadata": {},
   "outputs": [
    {
     "name": "stdout",
     "output_type": "stream",
     "text": [
      "Ingrese un número para comenzar la cuenta\n",
      "14\n",
      "1\n",
      "3\n",
      "5\n",
      "7\n",
      "9\n",
      "11\n",
      "13\n"
     ]
    }
   ],
   "source": [
    "n = int(input(\"Ingrese un número para comenzar la cuenta\\n\"))\n",
    "\n",
    "for i in range(n + 1):\n",
    "    if i % 2 != 0:\n",
    "        print(i)"
   ]
  },
  {
   "cell_type": "markdown",
   "metadata": {},
   "source": [
    "# genera_patron.py"
   ]
  },
  {
   "cell_type": "code",
   "execution_count": 14,
   "metadata": {},
   "outputs": [
    {
     "name": "stdout",
     "output_type": "stream",
     "text": [
      "Ingrese un número para generar patron\n",
      "9\n",
      "1\n",
      "12\n",
      "123\n",
      "1234\n",
      "12345\n",
      "123456\n",
      "1234567\n",
      "12345678\n",
      "123456789\n"
     ]
    }
   ],
   "source": [
    "n = int(input(\"Ingrese un número para generar patron\\n\"))\n",
    "\n",
    "output = ''\n",
    "for i in range(1, n + 1):\n",
    "        output += str(i)\n",
    "        print(output)"
   ]
  },
  {
   "cell_type": "markdown",
   "metadata": {},
   "source": [
    "# lorem_generator.py"
   ]
  },
  {
   "cell_type": "code",
   "execution_count": 15,
   "metadata": {},
   "outputs": [
    {
     "name": "stdout",
     "output_type": "stream",
     "text": [
      "Ingrese número de parrafos\n",
      "2\n",
      "Lorem ipsum dolor sit amet, consectetur adipiscing elit. Fusce felis nisl, convallis id libero nec, mattis molestie justo. Donec viverra elit a nibh luctus vulputate. Sed tincidunt mauris vel ex varius, a venenatis sem malesuada. Fusce in felis blandit, porta lacus eget, laoreet felis. Curabitur vitae venenatis ante. In in nisl a ex lobortis euismod. Suspendisse finibus imperdiet lacus. Integer eu ipsum tempus, malesuada diam quis, imperdiet lorem. Etiam ultrices pharetra nisi, et cursus ligula feugiat eget. Praesent eu sem lectus.\n",
      "\n",
      "Lorem ipsum dolor sit amet, consectetur adipiscing elit. Fusce felis nisl, convallis id libero nec, mattis molestie justo. Donec viverra elit a nibh luctus vulputate. Sed tincidunt mauris vel ex varius, a venenatis sem malesuada. Fusce in felis blandit, porta lacus eget, laoreet felis. Curabitur vitae venenatis ante. In in nisl a ex lobortis euismod. Suspendisse finibus imperdiet lacus. Integer eu ipsum tempus, malesuada diam quis, imperdiet lorem. Etiam ultrices pharetra nisi, et cursus ligula feugiat eget. Praesent eu sem lectus.\n",
      "\n",
      "\n"
     ]
    }
   ],
   "source": [
    "lorem = 'Lorem ipsum dolor sit amet, consectetur adipiscing elit. Fusce felis nisl, convallis id libero nec, mattis molestie justo. Donec viverra elit a nibh luctus vulputate. Sed tincidunt mauris vel ex varius, a venenatis sem malesuada. Fusce in felis blandit, porta lacus eget, laoreet felis. Curabitur vitae venenatis ante. In in nisl a ex lobortis euismod. Suspendisse finibus imperdiet lacus. Integer eu ipsum tempus, malesuada diam quis, imperdiet lorem. Etiam ultrices pharetra nisi, et cursus ligula feugiat eget. Praesent eu sem lectus.\\n\\n'\n",
    "\n",
    "n = int(input(\"Ingrese número de parrafos\\n\"))\n",
    "\n",
    "print(lorem*n)"
   ]
  },
  {
   "cell_type": "markdown",
   "metadata": {},
   "source": [
    "# fuerza_bruta.py"
   ]
  },
  {
   "cell_type": "code",
   "execution_count": 2,
   "metadata": {},
   "outputs": [
    {
     "name": "stdout",
     "output_type": "stream",
     "text": [
      "Ingrese contraseña de solo letras a decodificar\n",
      "CLAUdioRojas\n",
      "Se realizaron 128 intentos para descifrar la contraseña\n",
      "\n"
     ]
    }
   ],
   "source": [
    "import string\n",
    "# todos los caracteres\n",
    "all_chars = string.ascii_uppercase\n",
    "# dejamos todo en mayuscula para ignorar CASE\n",
    "password = input('Ingrese contraseña de solo letras a decodificar\\n').upper()\n",
    "intentos = 0\n",
    "\n",
    "for letra_a_descifrar in password:\n",
    "    for texto_a_comparar in all_chars:\n",
    "        intentos += 1\n",
    "        if letra_a_descifrar == texto_a_comparar:\n",
    "            # si la comparacion ha sido correcta, salimos del ciclo interno y probamos la siguiente letra\n",
    "            break\n",
    "print('Se realizaron {} intentos para descifrar la contraseña\\n'.format(intentos))"
   ]
  },
  {
   "cell_type": "code",
   "execution_count": null,
   "metadata": {},
   "outputs": [],
   "source": []
  }
 ],
 "metadata": {
  "kernelspec": {
   "display_name": "Python 3",
   "language": "python",
   "name": "python3"
  },
  "language_info": {
   "codemirror_mode": {
    "name": "ipython",
    "version": 3
   },
   "file_extension": ".py",
   "mimetype": "text/x-python",
   "name": "python",
   "nbconvert_exporter": "python",
   "pygments_lexer": "ipython3",
   "version": "3.7.1"
  }
 },
 "nbformat": 4,
 "nbformat_minor": 2
}
